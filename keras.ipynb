{
 "cells": [
  {
   "cell_type": "markdown",
   "metadata": {},
   "source": [
    "# Building Simple Neural Network with Keras\n",
    "\n",
    "The problem: MNIST handwritten digit classification\n",
    "MNIST data-set is classic deep learning problem. It's a collection of handwritten digits from 0 to 9.\n",
    "\n",
    "Keras is simple and powerfull deep learning library for Python. You can learn more by reading the <a href='https://keras.io/getting_started/intro_to_keras_for_engineers/'>documentation</a>."
   ]
  },
  {
   "cell_type": "code",
   "execution_count": 7,
   "metadata": {},
   "outputs": [],
   "source": [
    "import numpy as np\n",
    "import keras\n",
    "import pandas as pd\n",
    "\n",
    "import warnings\n",
    "warnings.filterwarnings(\"ignore\")"
   ]
  },
  {
   "cell_type": "markdown",
   "metadata": {},
   "source": [
    "## Data set"
   ]
  },
  {
   "cell_type": "markdown",
   "metadata": {},
   "source": [
    "Uploading the data set. You can download it from here: http://pjreddie.com/projects/mnist-in-csv/"
   ]
  },
  {
   "cell_type": "code",
   "execution_count": 25,
   "metadata": {},
   "outputs": [],
   "source": [
    "# let's upload train data\n",
    "train_data_file = open('/Users/abdygaziev/Documents/FlatironMaterials/Projects/data/mnist/mnist_train.csv','r')\n",
    "train_data_list = train_data_file.readlines()\n",
    "train_data_file.close()\n",
    "\n",
    "# # let's upload test data\n",
    "test_data_file = open('/Users/abdygaziev/Documents/FlatironMaterials/Projects/data/mnist/mnist_test.csv','r')\n",
    "test_data_list = test_data_file.readlines()\n",
    "test_data_file.close()"
   ]
  },
  {
   "cell_type": "code",
   "execution_count": 26,
   "metadata": {},
   "outputs": [
    {
     "name": "stdout",
     "output_type": "stream",
     "text": [
      "Number of training examples:  60000\n",
      "Number of test examples:  10000\n"
     ]
    }
   ],
   "source": [
    "print('Number of training examples: ',len(train_data_list))\n",
    "print('Number of test examples: ',len(test_data_list))"
   ]
  },
  {
   "cell_type": "markdown",
   "metadata": {},
   "source": [
    "## Data Preparation"
   ]
  },
  {
   "cell_type": "markdown",
   "metadata": {},
   "source": [
    "Let's split labels and features into separate data sets."
   ]
  },
  {
   "cell_type": "code",
   "execution_count": 27,
   "metadata": {},
   "outputs": [],
   "source": [
    "# y - targets\n",
    "# X - features\n",
    "y_train = []\n",
    "X_train = []\n",
    "\n",
    "for record in range(len(train_data_list)):\n",
    "    y_train.append(train_data_list[record][0])\n",
    "    values = train_data_list[record].split(',')\n",
    "    X_train.append(values[1:])\n",
    "\n",
    "y_test = []\n",
    "X_test = []\n",
    "\n",
    "for record in range(len(test_data_list)):\n",
    "    y_test.append(test_data_list[record][0])\n",
    "    values = test_data_list[record].split(',')\n",
    "    X_test.append(values[1:])"
   ]
  },
  {
   "cell_type": "code",
   "execution_count": 28,
   "metadata": {},
   "outputs": [],
   "source": [
    "# converting to numpy array\n",
    "y_train = np.asfarray(y_train)\n",
    "X_train = np.asfarray(X_train)\n",
    "\n",
    "y_test = np.asfarray(y_test)\n",
    "X_test = np.asfarray(X_test)"
   ]
  },
  {
   "cell_type": "code",
   "execution_count": 29,
   "metadata": {},
   "outputs": [
    {
     "name": "stdout",
     "output_type": "stream",
     "text": [
      "y_train shape: (60000,)\n",
      "X_train shape:  (60000, 784)\n",
      "y_test shape: (10000,)\n",
      "X_test shape:  (10000, 784)\n"
     ]
    }
   ],
   "source": [
    "train_images = X_train.reshape((-1, 784))\n",
    "test_images = X_test.reshape((-1, 784))\n",
    "\n",
    "# check the shapes\n",
    "print('y_train shape:',y_train.shape)\n",
    "print('X_train shape: ',X_train.shape)\n",
    "\n",
    "print('y_test shape:',y_test.shape)\n",
    "print('X_test shape: ',X_test.shape)"
   ]
  },
  {
   "cell_type": "markdown",
   "metadata": {},
   "source": [
    "Then we normalize our data. Instead of having pixel values from [0-255] we center them from [-0.5 to 0.5]. Usually smaller and centered values are better to train."
   ]
  },
  {
   "cell_type": "code",
   "execution_count": 30,
   "metadata": {},
   "outputs": [],
   "source": [
    "# Normalize the images.\n",
    "train_images = (train_images / 255) - 0.5\n",
    "test_images = (test_images / 255) - 0.5"
   ]
  },
  {
   "cell_type": "markdown",
   "metadata": {},
   "source": [
    "## Building the Model"
   ]
  },
  {
   "cell_type": "markdown",
   "metadata": {},
   "source": [
    "Keras provides to build **Sequential** or **Functional** models. Sequential model is the simplest model where layers of neurons stacked and fuly connected. Functional model is more customizable. Here we're going to build Sequential model."
   ]
  },
  {
   "cell_type": "code",
   "execution_count": 36,
   "metadata": {},
   "outputs": [],
   "source": [
    "# instantiate model\n",
    "from keras.models import Sequential\n",
    "from keras.layers import Dense\n",
    "\n",
    "model = Sequential([\n",
    "    Dense(64,activation='relu'),\n",
    "    Dense(64,activation='relu'),\n",
    "    Dense(10,activation='softmax')\n",
    "])"
   ]
  },
  {
   "cell_type": "markdown",
   "metadata": {},
   "source": [
    "First and second layers, each have 64 nodes with <a href='https://en.wikipedia.org/wiki/Rectifier_(neural_networks)'>ReLU</a> activation function. Output layer has 10 nodes, one for each label with a <a href='https://en.wikipedia.org/wiki/Softmax_function'>Softmax</a> activation function."
   ]
  },
  {
   "cell_type": "markdown",
   "metadata": {},
   "source": [
    "## Compile the Model\n",
    "\n",
    "Now we need to compile our model before we start training. We need to define 3 main key factors:\n",
    "* Optimizer - gradient descent\n",
    "* Loss function\n",
    "* Metric\n",
    "\n",
    "Keras has many <a href='https://keras.io/api/optimizers/'>optimizers</a>. In our model we will use <a href='https://arxiv.org/abs/1412.6980'>**Adam** - gradient based optimization</a>. \n",
    "For the Loss function **Cross-Entropy Loss**. To learn more about loss functions, go to Keras documentation: <a href='https://keras.io/api/losses/'>Keras' loss functions</a>. As for the metric we'll use **accuracy**.\n"
   ]
  },
  {
   "cell_type": "code",
   "execution_count": 41,
   "metadata": {},
   "outputs": [],
   "source": [
    "model.compile(\n",
    "    optimizer='adam',\n",
    "    loss='categorical_crossentropy',\n",
    "    metrics=['accuracy']\n",
    ")"
   ]
  },
  {
   "cell_type": "markdown",
   "metadata": {},
   "source": [
    "## Training the Model"
   ]
  },
  {
   "cell_type": "code",
   "execution_count": 42,
   "metadata": {},
   "outputs": [
    {
     "name": "stdout",
     "output_type": "stream",
     "text": [
      "Epoch 1/5\n",
      "60000/60000 [==============================] - 4s 72us/step - loss: 0.0946 - accuracy: 0.9700\n",
      "Epoch 2/5\n",
      "60000/60000 [==============================] - 4s 69us/step - loss: 0.0827 - accuracy: 0.9734\n",
      "Epoch 3/5\n",
      "60000/60000 [==============================] - 4s 69us/step - loss: 0.0774 - accuracy: 0.9752\n",
      "Epoch 4/5\n",
      "60000/60000 [==============================] - 4s 68us/step - loss: 0.0691 - accuracy: 0.9778\n",
      "Epoch 5/5\n",
      "60000/60000 [==============================] - 4s 69us/step - loss: 0.0645 - accuracy: 0.9790\n"
     ]
    },
    {
     "data": {
      "text/plain": [
       "<keras.callbacks.callbacks.History at 0x7f7ebce536d0>"
      ]
     },
     "execution_count": 42,
     "metadata": {},
     "output_type": "execute_result"
    }
   ],
   "source": [
    "from keras.utils import to_categorical\n",
    "\n",
    "model.fit(\n",
    "    x=train_images, #train data-set\n",
    "    y=to_categorical(y_train), #labels\n",
    "    epochs=5,\n",
    "    batch_size=32\n",
    ")"
   ]
  },
  {
   "cell_type": "markdown",
   "metadata": {},
   "source": [
    "Great! After 5 epochs of training we achieved 0.9790 accuracy. It may look promising but it doesn't tell us much. We need to test the model."
   ]
  },
  {
   "cell_type": "markdown",
   "metadata": {},
   "source": [
    "## Testing the Model"
   ]
  },
  {
   "cell_type": "code",
   "execution_count": 43,
   "metadata": {},
   "outputs": [
    {
     "name": "stdout",
     "output_type": "stream",
     "text": [
      "10000/10000 [==============================] - 0s 30us/step\n"
     ]
    },
    {
     "data": {
      "text/plain": [
       "[0.088274097120855, 0.9717000126838684]"
      ]
     },
     "execution_count": 43,
     "metadata": {},
     "output_type": "execute_result"
    }
   ],
   "source": [
    "model.evaluate(\n",
    "  test_images,\n",
    "  to_categorical(y_test)\n",
    ")"
   ]
  },
  {
   "cell_type": "markdown",
   "metadata": {},
   "source": [
    "After testing, our model's loss is 0.088 and accuracy is 0.9717. Not bad at all, slightly lower accuracy than on training data."
   ]
  },
  {
   "cell_type": "markdown",
   "metadata": {},
   "source": [
    "## Experiment with Model\n",
    "\n",
    "Let's try out different parameters to compare the results."
   ]
  },
  {
   "cell_type": "markdown",
   "metadata": {},
   "source": [
    "### Number of epochs?"
   ]
  },
  {
   "cell_type": "code",
   "execution_count": 47,
   "metadata": {},
   "outputs": [
    {
     "name": "stdout",
     "output_type": "stream",
     "text": [
      "Epoch 1/10\n",
      "60000/60000 [==============================] - 4s 71us/step - loss: 0.3518 - accuracy: 0.8953\n",
      "Epoch 2/10\n",
      "60000/60000 [==============================] - 4s 72us/step - loss: 0.1812 - accuracy: 0.9449\n",
      "Epoch 3/10\n",
      "60000/60000 [==============================] - 4s 70us/step - loss: 0.1415 - accuracy: 0.9566\n",
      "Epoch 4/10\n",
      "60000/60000 [==============================] - 4s 71us/step - loss: 0.1192 - accuracy: 0.9628\n",
      "Epoch 5/10\n",
      "60000/60000 [==============================] - 4s 71us/step - loss: 0.1042 - accuracy: 0.9669\n",
      "Epoch 6/10\n",
      "60000/60000 [==============================] - 4s 71us/step - loss: 0.0952 - accuracy: 0.9698\n",
      "Epoch 7/10\n",
      "60000/60000 [==============================] - 5s 75us/step - loss: 0.0848 - accuracy: 0.9731\n",
      "Epoch 8/10\n",
      "60000/60000 [==============================] - 5s 79us/step - loss: 0.0773 - accuracy: 0.9751\n",
      "Epoch 9/10\n",
      "60000/60000 [==============================] - 5s 77us/step - loss: 0.0714 - accuracy: 0.9772\n",
      "Epoch 10/10\n",
      "60000/60000 [==============================] - 5s 77us/step - loss: 0.0675 - accuracy: 0.9774\n",
      "test accuracy: \n",
      "10000/10000 [==============================] - 0s 39us/step\n"
     ]
    },
    {
     "data": {
      "text/plain": [
       "[0.10760164717165753, 0.9682999849319458]"
      ]
     },
     "execution_count": 47,
     "metadata": {},
     "output_type": "execute_result"
    }
   ],
   "source": [
    "model = Sequential([\n",
    "    Dense(64,activation='relu'),\n",
    "    Dense(64,activation='relu'),\n",
    "    Dense(10,activation='softmax')\n",
    "])\n",
    "\n",
    "model.compile(\n",
    "    optimizer='adam',\n",
    "    loss='categorical_crossentropy',\n",
    "    metrics=['accuracy']\n",
    ")\n",
    "\n",
    "\n",
    "from keras.utils import to_categorical\n",
    "\n",
    "model.fit(\n",
    "    x=train_images, #train data-set\n",
    "    y=to_categorical(y_train), #labels\n",
    "    epochs=10,\n",
    "    batch_size=32\n",
    ")\n",
    "\n",
    "print('test accuracy: ')\n",
    "\n",
    "model.evaluate(\n",
    "  test_images,\n",
    "  to_categorical(y_test)\n",
    ")\n"
   ]
  },
  {
   "cell_type": "markdown",
   "metadata": {},
   "source": [
    "Looks like accuracy of the model slightly deteriorated with more iteration. May be overfitting? "
   ]
  },
  {
   "cell_type": "markdown",
   "metadata": {},
   "source": [
    "### Network Depth?"
   ]
  },
  {
   "cell_type": "code",
   "execution_count": 44,
   "metadata": {},
   "outputs": [
    {
     "name": "stdout",
     "output_type": "stream",
     "text": [
      "Epoch 1/5\n",
      "60000/60000 [==============================] - 5s 83us/step - loss: 0.3504 - accuracy: 0.8903\n",
      "Epoch 2/5\n",
      "60000/60000 [==============================] - 5s 82us/step - loss: 0.1767 - accuracy: 0.9449\n",
      "Epoch 3/5\n",
      "60000/60000 [==============================] - 5s 87us/step - loss: 0.1434 - accuracy: 0.9550\n",
      "Epoch 4/5\n",
      "60000/60000 [==============================] - 5s 86us/step - loss: 0.1182 - accuracy: 0.9631\n",
      "Epoch 5/5\n",
      "60000/60000 [==============================] - 5s 79us/step - loss: 0.1049 - accuracy: 0.9675\n",
      "10000/10000 [==============================] - 0s 34us/step\n"
     ]
    },
    {
     "data": {
      "text/plain": [
       "[0.12213691611355171, 0.9623000025749207]"
      ]
     },
     "execution_count": 44,
     "metadata": {},
     "output_type": "execute_result"
    }
   ],
   "source": [
    "# more layers\n",
    "model = Sequential([\n",
    "    Dense(64,activation='relu'),\n",
    "    Dense(64,activation='relu'),\n",
    "    Dense(64,activation='relu'),\n",
    "    Dense(64,activation='relu'),\n",
    "    Dense(10,activation='softmax')\n",
    "])\n",
    "\n",
    "model.compile(\n",
    "    optimizer='adam',\n",
    "    loss='categorical_crossentropy',\n",
    "    metrics=['accuracy']\n",
    ")\n",
    "\n",
    "\n",
    "from keras.utils import to_categorical\n",
    "\n",
    "model.fit(\n",
    "    x=train_images, #train data-set\n",
    "    y=to_categorical(y_train), #labels\n",
    "    epochs=5,\n",
    "    batch_size=32\n",
    ")\n",
    "\n",
    "\n",
    "model.evaluate(\n",
    "  test_images,\n",
    "  to_categorical(y_test)\n",
    ")\n"
   ]
  },
  {
   "cell_type": "markdown",
   "metadata": {},
   "source": [
    "### Different Activation: Sigmoid?"
   ]
  },
  {
   "cell_type": "code",
   "execution_count": 45,
   "metadata": {},
   "outputs": [
    {
     "name": "stdout",
     "output_type": "stream",
     "text": [
      "Epoch 1/5\n",
      "60000/60000 [==============================] - 5s 79us/step - loss: 0.5703 - accuracy: 0.8563\n",
      "Epoch 2/5\n",
      "60000/60000 [==============================] - 4s 73us/step - loss: 0.2328 - accuracy: 0.9316\n",
      "Epoch 3/5\n",
      "60000/60000 [==============================] - 4s 74us/step - loss: 0.1740 - accuracy: 0.9487\n",
      "Epoch 4/5\n",
      "60000/60000 [==============================] - 4s 69us/step - loss: 0.1411 - accuracy: 0.9581\n",
      "Epoch 5/5\n",
      "60000/60000 [==============================] - 4s 72us/step - loss: 0.1184 - accuracy: 0.9652\n",
      "test accuracy: \n",
      "10000/10000 [==============================] - 0s 35us/step\n"
     ]
    },
    {
     "data": {
      "text/plain": [
       "[0.13002270174250008, 0.9621000289916992]"
      ]
     },
     "execution_count": 45,
     "metadata": {},
     "output_type": "execute_result"
    }
   ],
   "source": [
    "\n",
    "model = Sequential([\n",
    "    Dense(64,activation='sigmoid'),\n",
    "    Dense(64,activation='sigmoid'),\n",
    "    Dense(10,activation='softmax')\n",
    "])\n",
    "\n",
    "model.compile(\n",
    "    optimizer='adam',\n",
    "    loss='categorical_crossentropy',\n",
    "    metrics=['accuracy']\n",
    ")\n",
    "\n",
    "\n",
    "from keras.utils import to_categorical\n",
    "\n",
    "model.fit(\n",
    "    x=train_images, #train data-set\n",
    "    y=to_categorical(y_train), #labels\n",
    "    epochs=5,\n",
    "    batch_size=32\n",
    ")\n",
    "\n",
    "print('test accuracy: ')\n",
    "\n",
    "model.evaluate(\n",
    "  test_images,\n",
    "  to_categorical(y_test)\n",
    ")"
   ]
  },
  {
   "cell_type": "markdown",
   "metadata": {},
   "source": [
    "## Conclusion\n",
    "\n",
    "You can tune your parameters and hyper-parameters of your model to achieve desired outcome. We have implemented 4 layer (input, 2 hidden and output) neural network using <a href='https://keras.io'>Keras</a>, and achived 97% accuracy on train data-set, 97% on test data-set as well.\n",
    "\n",
    "As you can see above, we can play with a model with different parameters and see the results. At each setting, results vary. We should always test our model, and try different parameters. "
   ]
  },
  {
   "cell_type": "code",
   "execution_count": null,
   "metadata": {},
   "outputs": [],
   "source": []
  }
 ],
 "metadata": {
  "kernelspec": {
   "display_name": "Python 3",
   "language": "python",
   "name": "python3"
  },
  "language_info": {
   "codemirror_mode": {
    "name": "ipython",
    "version": 3
   },
   "file_extension": ".py",
   "mimetype": "text/x-python",
   "name": "python",
   "nbconvert_exporter": "python",
   "pygments_lexer": "ipython3",
   "version": "3.7.7"
  }
 },
 "nbformat": 4,
 "nbformat_minor": 4
}
