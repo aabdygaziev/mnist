{
 "cells": [
  {
   "cell_type": "code",
   "execution_count": 7,
   "metadata": {},
   "outputs": [],
   "source": [
    "import numpy as np\n",
    "import keras\n",
    "import pandas as pd\n",
    "\n",
    "import warnings\n",
    "warnings.filterwarnings(\"ignore\")"
   ]
  },
  {
   "cell_type": "code",
   "execution_count": 16,
   "metadata": {},
   "outputs": [],
   "source": [
    "# let's upload train data\n",
    "train_data_file = open('/Users/abdygaziev/Documents/FlatironMaterials/Projects/data/mnist/mnist_train.csv','r')\n",
    "train_data_list = train_data_file.readlines()\n",
    "train_data_file.close()\n",
    "\n",
    "# # let's upload test data\n",
    "test_data_file = open('/Users/abdygaziev/Documents/FlatironMaterials/Projects/data/mnist/mnist_test.csv','r')\n",
    "test_data_list = test_data_file.readlines()\n",
    "test_data_file.close()"
   ]
  },
  {
   "cell_type": "code",
   "execution_count": 17,
   "metadata": {},
   "outputs": [
    {
     "name": "stdout",
     "output_type": "stream",
     "text": [
      "Number of training examples:  60000\n",
      "Number of test examples:  10000\n"
     ]
    }
   ],
   "source": [
    "print('Number of training examples: ',len(train_data_list))\n",
    "print('Number of test examples: ',len(test_data_list))"
   ]
  },
  {
   "cell_type": "markdown",
   "metadata": {},
   "source": [
    "## Data Preparation"
   ]
  },
  {
   "cell_type": "code",
   "execution_count": 18,
   "metadata": {},
   "outputs": [],
   "source": [
    "# y - targets\n",
    "# X - features\n",
    "y_train = []\n",
    "X_train = []\n",
    "\n",
    "for record in range(len(train_data_list)):\n",
    "    y_train.append(train_data_list[record][0])\n",
    "    values = train_data_list[record].split(',')\n",
    "    X_train.append(values[1:])\n",
    "\n",
    "y_test = []\n",
    "X_test = []\n",
    "\n",
    "for record in range(len(test_data_list)):\n",
    "    y_test.append(test_data_list[record][0])\n",
    "    values = test_data_list[record].split(',')\n",
    "    X_test.append(values[1:])"
   ]
  },
  {
   "cell_type": "code",
   "execution_count": 21,
   "metadata": {},
   "outputs": [],
   "source": [
    "# converting to numpy array\n",
    "y_train = np.asfarray(y_train)\n",
    "X_train = np.asfarray(X_train)\n",
    "\n",
    "y_test = np.asfarray(y_test)\n",
    "X_test = np.asfarray(X_test)"
   ]
  },
  {
   "cell_type": "code",
   "execution_count": 22,
   "metadata": {},
   "outputs": [
    {
     "name": "stdout",
     "output_type": "stream",
     "text": [
      "y_train shape: (60000,)\n",
      "X_train shape:  (60000, 784)\n",
      "y_test shape: (10000,)\n",
      "X_test shape:  (10000, 784)\n"
     ]
    }
   ],
   "source": [
    "# check the shapes\n",
    "print('y_train shape:',y_train.shape)\n",
    "print('X_train shape: ',X_train.shape)\n",
    "\n",
    "print('y_test shape:',y_test.shape)\n",
    "print('X_test shape: ',X_test.shape)"
   ]
  },
  {
   "cell_type": "code",
   "execution_count": null,
   "metadata": {},
   "outputs": [],
   "source": []
  }
 ],
 "metadata": {
  "kernelspec": {
   "display_name": "Python 3",
   "language": "python",
   "name": "python3"
  },
  "language_info": {
   "codemirror_mode": {
    "name": "ipython",
    "version": 3
   },
   "file_extension": ".py",
   "mimetype": "text/x-python",
   "name": "python",
   "nbconvert_exporter": "python",
   "pygments_lexer": "ipython3",
   "version": "3.7.7"
  }
 },
 "nbformat": 4,
 "nbformat_minor": 4
}
